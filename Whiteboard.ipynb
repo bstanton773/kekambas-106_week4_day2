{
 "cells": [
  {
   "cell_type": "code",
   "execution_count": null,
   "id": "3cbc5fff",
   "metadata": {},
   "outputs": [],
   "source": [
    "# Trolls are attacking your comment section!\n",
    "\n",
    "# A common way to deal with this situation is to remove all of the vowels from the trolls' comments, neutralizing the threat.\n",
    "\n",
    "# Your task is to write a function that takes a string and return a new string with all vowels removed.\n",
    "\n",
    "# For example, the string \"This website is for losers LOL!\" would become \"Ths wbst s fr lsrs LL!\".\n",
    "\n",
    "# Note: for this kata y isn't considered a vowel."
   ]
  },
  {
   "cell_type": "code",
   "execution_count": 1,
   "id": "0fc7a8d7",
   "metadata": {},
   "outputs": [],
   "source": [
    "def disemvowel(string_):\n",
    "    vowels = {'a', 'e', 'i', 'o', 'u'}\n",
    "    clean_string = ''\n",
    "    for letter in string_:\n",
    "        if letter.lower() not in vowels:\n",
    "            clean_string += letter\n",
    "    return clean_string\n"
   ]
  },
  {
   "cell_type": "code",
   "execution_count": 2,
   "id": "67958505",
   "metadata": {},
   "outputs": [
    {
     "data": {
      "text/plain": [
       "'Ths wbst s fr lsrs LL!'"
      ]
     },
     "execution_count": 2,
     "metadata": {},
     "output_type": "execute_result"
    }
   ],
   "source": [
    "disemvowel('This website is for losers LOL!')"
   ]
  },
  {
   "cell_type": "code",
   "execution_count": 5,
   "id": "3b868744",
   "metadata": {},
   "outputs": [],
   "source": [
    "def remove_vowels(string):\n",
    "    vowels = ['a', 'e', 'i', 'o', 'u']\n",
    "    string_list = list(string)\n",
    "    for letter in vowels:\n",
    "        while letter in string_list:\n",
    "            string_list.remove(letter)\n",
    "        while letter.upper() in string_list:\n",
    "            string_list.remove(letter.upper())\n",
    "    return ''.join(string_list)"
   ]
  },
  {
   "cell_type": "code",
   "execution_count": 6,
   "id": "7967f3ae",
   "metadata": {},
   "outputs": [
    {
     "data": {
      "text/plain": [
       "'Ths wbst s fr lsrs LL!'"
      ]
     },
     "execution_count": 6,
     "metadata": {},
     "output_type": "execute_result"
    }
   ],
   "source": [
    "remove_vowels('This website is for losers LOL!')"
   ]
  },
  {
   "cell_type": "code",
   "execution_count": null,
   "id": "6472b7ed",
   "metadata": {},
   "outputs": [],
   "source": []
  }
 ],
 "metadata": {
  "kernelspec": {
   "display_name": "Python 3 (ipykernel)",
   "language": "python",
   "name": "python3"
  },
  "language_info": {
   "codemirror_mode": {
    "name": "ipython",
    "version": 3
   },
   "file_extension": ".py",
   "mimetype": "text/x-python",
   "name": "python",
   "nbconvert_exporter": "python",
   "pygments_lexer": "ipython3",
   "version": "3.9.13"
  }
 },
 "nbformat": 4,
 "nbformat_minor": 5
}
